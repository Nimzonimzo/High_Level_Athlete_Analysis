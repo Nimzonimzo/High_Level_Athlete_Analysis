{
 "cells": [
  {
   "cell_type": "code",
   "execution_count": 2,
   "id": "5628e78d",
   "metadata": {},
   "outputs": [
    {
     "name": "stdout",
     "output_type": "stream",
     "text": [
      "Erreur lors de l'analyse du fichier CSV : read_csv() got an unexpected keyword argument 'error_bad_lines'\n"
     ]
    },
    {
     "ename": "NameError",
     "evalue": "name 'df' is not defined",
     "output_type": "error",
     "traceback": [
      "\u001b[1;31m---------------------------------------------------------------------------\u001b[0m",
      "\u001b[1;31mNameError\u001b[0m                                 Traceback (most recent call last)",
      "Cell \u001b[1;32mIn[2], line 50\u001b[0m\n\u001b[0;32m     47\u001b[0m     plt\u001b[38;5;241m.\u001b[39mshow()\n\u001b[0;32m     49\u001b[0m \u001b[38;5;66;03m# Appel de la fonction pour explorer les données\u001b[39;00m\n\u001b[1;32m---> 50\u001b[0m explore_data(df)\n",
      "\u001b[1;31mNameError\u001b[0m: name 'df' is not defined"
     ]
    }
   ],
   "source": [
    "import pandas as pd\n",
    "import matplotlib.pyplot as plt\n",
    "import seaborn as sns\n",
    "\n",
    "# Chargement des données depuis le fichier CSV\n",
    "data_path = r\"C:\\Users\\tomfe\\Desktop\\Projet Python\\High_Level_Athlete_Analysis\\SHN_2015.csv\"\n",
    "\n",
    "# Essayez de charger le fichier en spécifiant une virgule comme séparateur et en ignorant les lignes problématiques\n",
    "try:\n",
    "    df = pd.read_csv(data_path, error_bad_lines=False)\n",
    "except Exception as e:\n",
    "    print(f\"Erreur lors de l'analyse du fichier CSV : {e}\")\n",
    "    # Vous pouvez examiner les lignes erronées si nécessaire\n",
    "\n",
    "\n",
    "def explore_data(df):\n",
    "    # Affichage des premières lignes du DataFrame\n",
    "    print(\"Aperçu des premières lignes du DataFrame :\")\n",
    "    print(df.head())\n",
    "\n",
    "    # Informations sur les colonnes et les types de données\n",
    "    print(\"\\nInformations sur les colonnes et les types de données :\")\n",
    "    print(df.info())\n",
    "\n",
    "    # Statistiques descriptives\n",
    "    print(\"\\nStatistiques descriptives :\")\n",
    "    print(df.describe())\n",
    "\n",
    "    # Vérification des valeurs manquantes\n",
    "    missing_values = df.isnull().sum()\n",
    "    if missing_values.sum() > 0:\n",
    "        print(\"\\nValeurs manquantes par colonne :\")\n",
    "        print(missing_values)\n",
    "    else:\n",
    "        print(\"\\nAucune valeur manquante dans le DataFrame.\")\n",
    "\n",
    "    # Exploration de la répartition des athlètes par sexe\n",
    "    print(\"\\nRépartition des athlètes par sexe :\")\n",
    "    print(df['Sexe'].value_counts())\n",
    "\n",
    "    # Visualisation de la répartition des athlètes par sexe\n",
    "    plt.figure(figsize=(8, 6))\n",
    "    sns.countplot(x='Sexe', data=df)\n",
    "    plt.title('Répartition des athlètes par sexe')\n",
    "    plt.xlabel('Sexe')\n",
    "    plt.ylabel('Nombre d\\'athlètes')\n",
    "    plt.show()\n",
    "\n",
    "# Appel de la fonction pour explorer les données\n",
    "explore_data(df)\n"
   ]
  },
  {
   "cell_type": "code",
   "execution_count": null,
   "id": "c09cbf31",
   "metadata": {},
   "outputs": [],
   "source": []
  }
 ],
 "metadata": {
  "kernelspec": {
   "display_name": "Python 3 (ipykernel)",
   "language": "python",
   "name": "python3"
  },
  "language_info": {
   "codemirror_mode": {
    "name": "ipython",
    "version": 3
   },
   "file_extension": ".py",
   "mimetype": "text/x-python",
   "name": "python",
   "nbconvert_exporter": "python",
   "pygments_lexer": "ipython3",
   "version": "3.11.5"
  }
 },
 "nbformat": 4,
 "nbformat_minor": 5
}
