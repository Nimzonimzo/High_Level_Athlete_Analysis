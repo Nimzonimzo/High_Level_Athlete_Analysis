{
 "cells": [
  {
   "cell_type": "code",
   "execution_count": 1,
   "id": "5628e78d",
   "metadata": {},
   "outputs": [
    {
     "ename": "SyntaxError",
     "evalue": "(unicode error) 'unicodeescape' codec can't decode bytes in position 2-3: truncated \\UXXXXXXXX escape (2396761906.py, line 6)",
     "output_type": "error",
     "traceback": [
      "\u001b[1;36m  Cell \u001b[1;32mIn[1], line 6\u001b[1;36m\u001b[0m\n\u001b[1;33m    data_path = \"C:\\Users\\tomfe\\Desktop\\Projet Python\\High_Level_Athlete_Analysis/SHN_2015.csv\"\u001b[0m\n\u001b[1;37m                                                                                               ^\u001b[0m\n\u001b[1;31mSyntaxError\u001b[0m\u001b[1;31m:\u001b[0m (unicode error) 'unicodeescape' codec can't decode bytes in position 2-3: truncated \\UXXXXXXXX escape\n"
     ]
    }
   ],
   "source": [
    "import pandas as pd\n",
    "import matplotlib.pyplot as plt\n",
    "import seaborn as sns\n",
    "\n",
    "# Chargement des données depuis le fichier CSV\n",
    "data_path = \"C:\\Users\\tomfe\\Desktop\\Projet Python\\High_Level_Athlete_Analysis/SHN_2015.csv\"\n",
    "df = pd.read_csv(data_path)\n",
    "\n",
    "def explore_data(df):\n",
    "    # Affichage des premières lignes du DataFrame\n",
    "    print(\"Aperçu des premières lignes du DataFrame :\")\n",
    "    print(df.head())\n",
    "\n",
    "    # Informations sur les colonnes et les types de données\n",
    "    print(\"\\nInformations sur les colonnes et les types de données :\")\n",
    "    print(df.info())\n",
    "\n",
    "    # Statistiques descriptives\n",
    "    print(\"\\nStatistiques descriptives :\")\n",
    "    print(df.describe())\n",
    "\n",
    "    # Vérification des valeurs manquantes\n",
    "    missing_values = df.isnull().sum()\n",
    "    if missing_values.sum() > 0:\n",
    "        print(\"\\nValeurs manquantes par colonne :\")\n",
    "        print(missing_values)\n",
    "    else:\n",
    "        print(\"\\nAucune valeur manquante dans le DataFrame.\")\n",
    "\n",
    "    # Exploration de la répartition des athlètes par sexe\n",
    "    print(\"\\nRépartition des athlètes par sexe :\")\n",
    "    print(df['Sexe'].value_counts())\n",
    "\n",
    "    # Visualisation de la répartition des athlètes par sexe\n",
    "    plt.figure(figsize=(8, 6))\n",
    "    sns.countplot(x='Sexe', data=df)\n",
    "    plt.title('Répartition des athlètes par sexe')\n",
    "    plt.xlabel('Sexe')\n",
    "    plt.ylabel('Nombre d\\'athlètes')\n",
    "    plt.show()\n",
    "\n",
    "# Appel de la fonction pour explorer les données\n",
    "explore_data(df)\n"
   ]
  },
  {
   "cell_type": "code",
   "execution_count": null,
   "id": "c09cbf31",
   "metadata": {},
   "outputs": [],
   "source": []
  }
 ],
 "metadata": {
  "kernelspec": {
   "display_name": "Python 3 (ipykernel)",
   "language": "python",
   "name": "python3"
  },
  "language_info": {
   "codemirror_mode": {
    "name": "ipython",
    "version": 3
   },
   "file_extension": ".py",
   "mimetype": "text/x-python",
   "name": "python",
   "nbconvert_exporter": "python",
   "pygments_lexer": "ipython3",
   "version": "3.11.5"
  }
 },
 "nbformat": 4,
 "nbformat_minor": 5
}
